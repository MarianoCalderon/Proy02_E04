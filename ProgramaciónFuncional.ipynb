{
 "cells": [
  {
   "cell_type": "markdown",
   "id": "8469b125-ad29-4364-9fb7-2494863b4bdb",
   "metadata": {},
   "source": [
    "# Programación Funcional"
   ]
  },
  {
   "cell_type": "markdown",
   "id": "34397288-f19c-4254-99d7-5d4f690b2050",
   "metadata": {},
   "source": [
    "---"
   ]
  },
  {
   "cell_type": "markdown",
   "id": "9c74147d-a966-4290-9394-8d1b889277c4",
   "metadata": {},
   "source": [
    "La **programación funcional** es un estilo de programación que hace hincapié en el uso de funciones y datos inmutables. A continuación se presentará una serie de ejercicios utilizando la programación funcional para su solución. "
   ]
  },
  {
   "cell_type": "markdown",
   "id": "d1973c13-78cf-4c63-9753-d31f2860558d",
   "metadata": {},
   "source": [
    "### Ejercicio 1: Número combinatorio"
   ]
  },
  {
   "cell_type": "markdown",
   "id": "26eb028b-b11b-408f-a06c-abf967e1e88f",
   "metadata": {},
   "source": [
    "A continuación se define una función recursiva para la evaluación de un número combinatorio $C(n, k)$ tomando en cuenta las siguientes condiciones: \n",
    "\n",
    "<li>$C(n,0) = 1$ y $ C(n,n) = 1$</li>\n",
    "<li>$C(n,k) = C(n-1,k-1) + C(n-1,k)$ donde $n \\geq 0, k \\geq 0, n \\geq k$</li>\n"
   ]
  },
  {
   "cell_type": "markdown",
   "id": "cc185e82-7c57-45c5-8fa2-a1f48f6ffffa",
   "metadata": {},
   "source": [
    "**Código** "
   ]
  },
  {
   "cell_type": "code",
   "execution_count": 11,
   "id": "6d0d2642-691c-4e37-b8a2-02e2c58e6560",
   "metadata": {},
   "outputs": [],
   "source": [
    "(define (combinatorio n k)\n",
    "  (if (or (= k 0) (= k n)) 1 \n",
    "      (+ (combinatorio (- n 1) k) (combinatorio (- n 1) (- k 1)))\n",
    "      )\n",
    "  )"
   ]
  },
  {
   "cell_type": "markdown",
   "id": "e0618f12-7475-490a-bd56-141d932038e1",
   "metadata": {},
   "source": [
    "**Valores de entrada:**\n",
    "La función espera dos valores de entrada, el primero siendo $n$ (el número total de elementos para elegir) y el segundo $k$ (número de elementos que se eligen en cada combinación).\n",
    "\n",
    "**Valor de salida:**\n",
    "La salida es el número de combinaciones posibles. \n",
    "\n",
    "\n",
    "**Ejemplo:** \n",
    "\n",
    "(combinatorio 5 2). \n",
    "\n",
    "**Valores de entrada:** 5 y 2\n",
    "\n",
    "\n",
    "**Salida:** 10 "
   ]
  },
  {
   "cell_type": "markdown",
   "id": "2e4acf62-12a5-486b-a898-a18db601e5e6",
   "metadata": {},
   "source": [
    "**Prueba**\n",
    "\n",
    "Cambia los valores de $n$ y $k$ para ver como cambia el valor de salida. "
   ]
  },
  {
   "cell_type": "code",
   "execution_count": 12,
   "id": "b6b2c0c4-01f4-4540-8737-b5b6c5f8d284",
   "metadata": {},
   "outputs": [
    {
     "data": {
      "text/html": [
       "<code>10</code>"
      ],
      "text/plain": [
       "10"
      ]
     },
     "execution_count": 12,
     "metadata": {},
     "output_type": "execute_result"
    }
   ],
   "source": [
    "(combinatorio 5 2)"
   ]
  },
  {
   "cell_type": "markdown",
   "id": "0ea96dce-3be2-493f-91d5-2d5c776ce0f6",
   "metadata": {},
   "source": [
    "### Ejercicio 2: Máximo Común Divisor."
   ]
  },
  {
   "cell_type": "markdown",
   "id": "43ffaf21",
   "metadata": {},
   "source": [
    "En el siguiente código se definen dos funciones para calcular el Máximo Común Divisor de dos números enteros negativos a y b con la condición a < b usando el hecho de que MCD (a, b) = MCD (a, b-a).\n",
    "\n",
    "Función residuo: Calcula el residuo de la división entre dos números. Si a < b, el residuo es ‘a’, de lo contrario (a > b), se llama recursivamente a la función con los argumentos (- b a) y ‘a’ hasta que se cumpla que a < b, es decir, se devuelva el valor de ‘a’.\n",
    "\n",
    "Función mcd: La función obtiene el valor absoluto de ‘a’ y ‘b’. Si ‘b’ es igual a 0, el MCD es el valor absoluto de ‘a’, en caso contrario se llama recursivamente a la función mcd con los argumentos ‘abs(b)’ y el residuo de los valores absolutos de ‘a’ y ‘b’, hasta que ‘b’ sea igual a 0 y se retorne el MCD.\n"
   ]
  },
  {
   "cell_type": "markdown",
   "id": "03951e69",
   "metadata": {},
   "source": [
    "**Código**"
   ]
  },
  {
   "cell_type": "code",
   "execution_count": 1,
   "id": "599b02ca",
   "metadata": {},
   "outputs": [],
   "source": [
    "(define (residuo a b)\n",
    "  (if (< a b)\n",
    "      a\n",
    "      (residuo (- b a) a)))\n",
    "\n",
    "(define (mcd a b)\n",
    "  (if (= (abs b) 0)\n",
    "      (abs a)\n",
    "      (mcd (abs b) (residuo (abs a) (abs b)))))"
   ]
  },
  {
   "cell_type": "markdown",
   "id": "b668f3ad",
   "metadata": {},
   "source": [
    "**Valores de entrada:** La función recibe dos números para calcular su MCD. \n",
    "\n",
    "**Valor de saldida:** Máximo Común Divisor de los números.\n",
    "\n",
    "**Ejemplo:**\n",
    "\n",
    "(mcd -15 -9) \n",
    "\n",
    "**Valores de entrada:** -15 y -9\n",
    "\n",
    "\n",
    "**Salida:** 3"
   ]
  },
  {
   "cell_type": "markdown",
   "id": "d4e30938",
   "metadata": {},
   "source": [
    "**Prueba**\n",
    "\n",
    "Modifica los valores de a y b para ver como cambia el valor de salida. "
   ]
  },
  {
   "cell_type": "code",
   "execution_count": 2,
   "id": "661fca68",
   "metadata": {},
   "outputs": [
    {
     "data": {
      "text/html": [
       "<code>15</code>"
      ],
      "text/plain": [
       "15"
      ]
     },
     "execution_count": 2,
     "metadata": {},
     "output_type": "execute_result"
    }
   ],
   "source": [
    "(mcd -15 -90)"
   ]
  },
  {
   "cell_type": "markdown",
   "id": "66f1b148",
   "metadata": {},
   "source": [
    "### Ejercicio 3: Lista de números primos"
   ]
  },
  {
   "cell_type": "markdown",
   "id": "bf3d2680-ea2c-48ec-b5aa-ef040f489dbe",
   "metadata": {},
   "source": [
    "El siguiente bloque de código devuelve una lista de todos los números primos dentro del rango establecido por el usario. Por ejemplo, si se establce que el rango es del 1 al 10 el programa debe retornar la siguiente lista: '(2, 5, 7).\n",
    "\n",
    "\n",
    "En el código se define una función (primo n), esta función se utiliza para determinar si un número es primo o no. La función primos genera una lista de numeros primos dentro del rango establecido por los argumentos inicio y fin, dentro de esta función se define una función llamada listaPrimos que toma dos argumentos, el primero es Define una actual (el número actual que se está evaluando) y el segundo es lista (una lista acumuladora de números primos encontrados hasta ahora). \n",
    "\n",
    "Utilizado estas funciones de manera recursiva se genera la lista de números primos. o.\n",
    "Si un número es primo, lo agrega a la lista acumuladora. Luego, continúa el proceso con el siguiente número en el rango."
   ]
  },
  {
   "cell_type": "markdown",
   "id": "5b057e9b-370d-4506-9888-cfbf550fd77d",
   "metadata": {},
   "source": [
    "**Código**"
   ]
  },
  {
   "cell_type": "code",
   "execution_count": 13,
   "id": "7ba8df15-b403-455e-809b-32eeec7dd911",
   "metadata": {},
   "outputs": [],
   "source": [
    "(define (primo n)\n",
    "  (if (<= n 1) #f \n",
    "      (if (= n 2) #t\n",
    "          (if (= (remainder n 2) 0) #f \n",
    "              (let loop ((i 3))\n",
    "                (if (> (* i i) n) #t  \n",
    "                    (if (= (remainder n i) 0) #f \n",
    "                        (loop (+ i 2)))))))))\n",
    "\n",
    "(define (primos inicio fin)\n",
    "  (define (listaPrimos actual lista)\n",
    "    (if (<= actual fin)\n",
    "        (if (primo actual)\n",
    "            (listaPrimos (+ actual 1) (cons actual lista))\n",
    "            (listaPrimos (+ actual 1) lista))\n",
    "        (reverse lista)))\n",
    "  (listaPrimos inicio '()))"
   ]
  },
  {
   "cell_type": "markdown",
   "id": "10afbf66-67e0-43c5-a0f0-9f720598a9f8",
   "metadata": {},
   "source": [
    "**Valores de entrada:** La función recibe dos valores de entrada, el primero representa el inicio del rango y el segundo el final. \n",
    "\n",
    "**Valor de saldida:** Lista de números primos dentro del rango.\n",
    "\n",
    "**Ejemplo:**\n",
    "\n",
    "(primos 1 10) \n",
    "\n",
    "**Valores de entrada:** 1 y 10 \n",
    "\n",
    "\n",
    "**Salida:** '(2 3 5 7)"
   ]
  },
  {
   "cell_type": "markdown",
   "id": "fce838c2-61c2-4856-878f-5340ed085c7d",
   "metadata": {},
   "source": [
    "**Prueba**\n",
    "\n",
    "Modifica los valores de entrada y analiza como cambia el valor de salida. "
   ]
  },
  {
   "cell_type": "code",
   "execution_count": 14,
   "id": "59aadfbe-29e8-467d-b4d8-42a306ac5c0a",
   "metadata": {},
   "outputs": [
    {
     "data": {
      "text/html": [
       "<code>'(2 3 5 7)</code>"
      ],
      "text/plain": [
       "'(2 3 5 7)"
      ]
     },
     "execution_count": 14,
     "metadata": {},
     "output_type": "execute_result"
    }
   ],
   "source": [
    "(primos 1 10)"
   ]
  },
  {
   "cell_type": "markdown",
   "id": "162a62b1-d8b0-4fd8-b147-39c62b534bc6",
   "metadata": {},
   "source": [
    "### Ejercicio 4: Buscar un elemento"
   ]
  },
  {
   "cell_type": "markdown",
   "id": "955d74a8-298c-4f98-ab1c-5f5cbc7c5a50",
   "metadata": {},
   "source": [
    "La función (buscarElmento n lista) se caracteriza por buscar si un elemento $n$ se encuentra dentro de una lista '() proporcionada. Por ejemplo, si 4 se encuentra dentro de la lista '(1 2 3 4) el programa retorna #t de verdadero, en caso contrario, retorna #f. \n",
    "\n",
    "\n",
    "Primero se define la función (buscarElemento n lista), luego se encuentran una serie de ifs anidadas, primero se comprueba si la lista está vacía, en este caso retorna #f, en caso contrario verifica si el elemento n es el primero de la lista, si esto es cierto, el programa retorna #t, en caso contrariose llama recursivamente a la función buscarElemento con n y el resto de la lista (cdr lista). "
   ]
  },
  {
   "cell_type": "markdown",
   "id": "6760657d-72f6-48d0-90ad-c3e753548c23",
   "metadata": {},
   "source": [
    "**Código**"
   ]
  },
  {
   "cell_type": "code",
   "execution_count": 2,
   "id": "10975730-19e9-4e51-a1da-8c97fd91b82c",
   "metadata": {},
   "outputs": [],
   "source": [
    "(define (buscarElemento n lista)\n",
    "  (if (null? lista) #f \n",
    "      (if (equal? n (car lista)) #t\n",
    "          (buscarElemento n (cdr lista))\n",
    "          )\n",
    "      )\n",
    "  )"
   ]
  },
  {
   "cell_type": "markdown",
   "id": "eae0c6ea-7a65-4aef-86e3-1b25c1bf67a1",
   "metadata": {},
   "source": [
    "**Valores de entrada:** Esta función recibe 2 valores de entrada, el primero siendo el elemento a buscar y el segundo siendo la lista donde se quiere verificar si cuenta con el elemento. \n",
    "\n",
    "**Valores de salida:**\n",
    "<li>#t en caso de que el elemento se encuentre en la lista</li>\n",
    "<li>#f si el elemento no se encuentra en la lista</li>\n",
    "\n",
    "\n",
    "**Ejemplo:**\n",
    "\n",
    "(buscarElemento 3 '(1 3 5))\n",
    "\n",
    "\n",
    "**Valores de entrada:** 3 y '(1 3 5)\n",
    "\n",
    "\n",
    "**Salida:** #t\n",
    "\n",
    "\n"
   ]
  },
  {
   "cell_type": "markdown",
   "id": "f89329a2-0b9e-4b9c-9d96-cb3a0b02e7e4",
   "metadata": {},
   "source": [
    "**Prueba**\n",
    "\n",
    "\n",
    "Cambia los valores de entrada de la función y analiza los cambios en la salida. "
   ]
  },
  {
   "cell_type": "code",
   "execution_count": 3,
   "id": "d4fb8141-c755-42c9-bb29-1f8d733e1269",
   "metadata": {},
   "outputs": [
    {
     "data": {
      "text/html": [
       "<code>#t</code>"
      ],
      "text/plain": [
       "#t"
      ]
     },
     "execution_count": 3,
     "metadata": {},
     "output_type": "execute_result"
    }
   ],
   "source": [
    "(buscarElemento 3 '(1 3 5))"
   ]
  },
  {
   "cell_type": "markdown",
   "id": "4e2297dc-fe98-4fbe-8fad-b6c040ff8dca",
   "metadata": {},
   "source": [
    "### Ejercicio 5: Invertir una lista"
   ]
  },
  {
   "cell_type": "markdown",
   "id": "b6139d46-a128-4571-9a1c-013e7d85dc84",
   "metadata": {},
   "source": [
    "La función (invertir lista) tiene el objetivo de invertir el orden de los elementos de una lista proprocionada, por ejemplo sea una lista '(1 2 3) la salida de la función será '(3 2 1). \n",
    "\n",
    "En el cuerpo de la función primero se verifica si la lista está vacía, en este caso se retorna una lista vacía, si la lista no está vacía, la función llama recursivamente a invertir con el resto de la lista (cdr lista) para invertir el resto de los elementos de la lista. Luego, agrega el primer elemento de la lista original (car lista) al final de la lista invertida utilizando append, esta función combina dos listas dadas."
   ]
  },
  {
   "cell_type": "markdown",
   "id": "ee078cb7-df0b-4e04-af0d-b44433c14f93",
   "metadata": {},
   "source": [
    "**Código**"
   ]
  },
  {
   "cell_type": "code",
   "execution_count": 2,
   "id": "7d03856a-6740-4811-9e01-6bdc41e6f8a2",
   "metadata": {},
   "outputs": [],
   "source": [
    "(define (invertir lista)\n",
    "  (if (null? lista) '()\n",
    "      (append (invertir (cdr lista)) (list (car lista)))\n",
    "      )\n",
    "\n",
    "  )"
   ]
  },
  {
   "cell_type": "markdown",
   "id": "817473c0-0e17-4638-985b-cba61c4cc0fb",
   "metadata": {},
   "source": [
    "**Valores de entrada:** En este caso la función recibe como argumento una lista '(). \n",
    "\n",
    "**Valor de salida:** La salida será la lista invertida. \n",
    "\n",
    "**Ejemplo**\n",
    "\n",
    "(invertir '(2 3 6 8))\n",
    "\n",
    "**Valor de entrada:** '(2 3 6 8)\n",
    "\n",
    "**Salida:** '(8 6 3 2)"
   ]
  },
  {
   "cell_type": "markdown",
   "id": "35da5f0f-0a62-4dbb-ab12-7ae7dd2513ee",
   "metadata": {},
   "source": [
    "**Prueba** \n",
    "\n",
    "Cambia la lista de la función y observa su salida. "
   ]
  },
  {
   "cell_type": "code",
   "execution_count": 5,
   "id": "bb023101-87e0-4193-a438-7ffaea309031",
   "metadata": {},
   "outputs": [
    {
     "data": {
      "text/html": [
       "<code>'(8 6 3 2)</code>"
      ],
      "text/plain": [
       "'(8 6 3 2)"
      ]
     },
     "execution_count": 5,
     "metadata": {},
     "output_type": "execute_result"
    }
   ],
   "source": [
    "(invertir '(2 3 6 8))"
   ]
  },
  {
   "cell_type": "markdown",
   "id": "eb2e70d8-874e-456f-ab1a-acd91e064de6",
   "metadata": {},
   "source": [
    "### Ejercicio 6: Eliminar un elemento de una lista"
   ]
  },
  {
   "cell_type": "markdown",
   "id": "3d76fe22-9589-4e2a-84bf-8b71430a91bb",
   "metadata": {},
   "source": [
    "La función (eliminar n lista) tiene el objetivo de eliminar un elemento $n$ de una lista '(), ambos elementos son propocionados por el usario. \n",
    "\n",
    "Primero se verifica si la lista está vacía, si está vacía retorna una lista vacía, en caso contrario comprueba si el primer elemento de la lista (car lista) es igual a n. Si es así, se llama recursivamente a la función eliminar con n y el resto de la lista (cdr lista), para verificar si existen más ocurrencias del mismo elemento. \n",
    "\n",
    "Si resulta que n no es el primero de la lista (car lista), se agrega ese elemento a la lista resultante utilizando cons, y luego se llama recursivamente a la función eliminar con n y el resto de la lista (cdr lista) para seguir buscando más ocurrencias de n en el resto de la lista y construir la lista resultante con los elementos que no son n."
   ]
  },
  {
   "cell_type": "code",
   "execution_count": 13,
   "id": "96850660-c32b-4059-926d-e8da65dca0ad",
   "metadata": {},
   "outputs": [],
   "source": [
    "(define (eliminar n lista)\n",
    "  (if (null? lista) '()\n",
    "      (if (equal? n (car lista)) (eliminar n (cdr lista))\n",
    "          (cons (car lista) (eliminar n (cdr lista)))\n",
    "          )\n",
    "      )\n",
    "\n",
    "  )"
   ]
  },
  {
   "cell_type": "markdown",
   "id": "f3536d54-cd1e-4cab-9321-27575e3852ce",
   "metadata": {},
   "source": [
    "**Código**"
   ]
  },
  {
   "cell_type": "markdown",
   "id": "9987a69a-7f16-4005-bf44-f1b681983f03",
   "metadata": {},
   "source": [
    "**Valores de entrada:** La función espera dos valores de entrada, el primero es el elemento a eliminar, el segundo es la lista de elementos. \n",
    "\n",
    "**Valores de salida:** La salida será una lista sin el elemento que se deseó eliminar. \n",
    "\n",
    "**Ejemplo**\n",
    "\n",
    "(eliminar 2 '(3 4 6 1 1 2))\n",
    "\n",
    "**Valores de entrada:** 2 y '(3 4 6 1 1 2)\n",
    "\n",
    "\n",
    "**Salida:** '(3 4 6 1 1)\n"
   ]
  },
  {
   "cell_type": "markdown",
   "id": "61459f45-ada5-4563-a69b-7e0d183086f6",
   "metadata": {},
   "source": [
    "**Prueba**\n",
    "\n",
    "Modifica los valores de entrada y observa su salida."
   ]
  },
  {
   "cell_type": "code",
   "execution_count": 15,
   "id": "e61b6c71-e4a2-456c-b325-fbd1512ff06a",
   "metadata": {},
   "outputs": [
    {
     "data": {
      "text/html": [
       "<code>'(3 4 6 1 1)</code>"
      ],
      "text/plain": [
       "'(3 4 6 1 1)"
      ]
     },
     "execution_count": 15,
     "metadata": {},
     "output_type": "execute_result"
    }
   ],
   "source": [
    "(eliminar 2 '(3 4 6 1 1 2))"
   ]
  },
  {
   "cell_type": "markdown",
   "id": "0ffa403c",
   "metadata": {},
   "source": [
    "### Ejercicio 7. Palindromo."
   ]
  },
  {
   "cell_type": "markdown",
   "id": "47662a57",
   "metadata": {},
   "source": [
    "El siguiente bloque de código define una serie de funciones que dado un número entero positivo retorna #t en caso de que el número sea palíndromo y #f en caso contrario.\n",
    "Por ejemplo, 12321 es un palíndromo, pero 1451 no es un palíndromo. \n",
    "\n",
    "Función palíndromo: Toma un número ‘n’ como argumento y devuelve el resultado de la función num-palindromo.\n",
    "\n",
    "Función invertir-num: Toma un número ‘n’ y lo invierte, usando como parámetros al número original (n) y al número invertido hasta ese punto (invertido). En cada llamada recursiva se divide ‘n’ por 10 (se elimina el último dígito). Luego se multiplica ‘invertido’ por 10 y a esto se le suma el residuo de ‘n’ entre 10 (se obtiene el último dígito), lo que va agregando el último dígito al principio de ‘invertido’ hasta que ‘n’ sea 0 y se devuelva ‘invertido’.\n",
    "\n",
    "Función num-palindromo: Toma un número ‘n’. Dentro de ella se definen otras funciones que guardan el número original (num-original) y el número invertido (num-invertido) para posteriormente compararlas y devolver #t o #f sea el caso.\n"
   ]
  },
  {
   "cell_type": "markdown",
   "id": "a9d56c60",
   "metadata": {},
   "source": [
    "#### Código"
   ]
  },
  {
   "cell_type": "code",
   "execution_count": 3,
   "id": "0cc960eb",
   "metadata": {},
   "outputs": [],
   "source": [
    "(define (palindromo n)\n",
    "  (define (invertir-num n invertido)\n",
    "    (if (= n 0)\n",
    "        invertido\n",
    "        (invertir-num (quotient n 10) (+ (* invertido 10) (remainder n 10)))))\n",
    "\n",
    "  (define (num-palindromo n)\n",
    "    (define num-original n)\n",
    "    (define num-invertido (invertir-num n 0))\n",
    "    (= num-original num-invertido))\n",
    "\n",
    "  (num-palindromo n))\n"
   ]
  },
  {
   "cell_type": "markdown",
   "id": "523ae0ab",
   "metadata": {},
   "source": [
    "**Valores de entrada:** El código toma como argumento a un número entero positivo.\n",
    "\n",
    "**Valores de salida:** #t para verdadero (es palíndromo) y #f para falso (no es palíndromo)\n",
    "\n",
    "**Ejemplo** \n",
    "\n",
    "(palindromo 1221)\n",
    "\n",
    "**Valor de entrada:** 12321\n",
    "\n",
    "**Salida:** #t\n",
    "\n",
    "(palindromo 145)\n",
    "\n",
    "**Valor de entrada:** 145\n",
    "\n",
    "**Salida:** #f\n"
   ]
  },
  {
   "cell_type": "markdown",
   "id": "7bcd151d",
   "metadata": {},
   "source": [
    "**Prueba**\n",
    "\n",
    "Modifica el valor de entrada y observa su valor de salida. "
   ]
  },
  {
   "cell_type": "code",
   "execution_count": 4,
   "id": "6d9b641d",
   "metadata": {},
   "outputs": [
    {
     "data": {
      "text/html": [
       "<code>#t</code>"
      ],
      "text/plain": [
       "#t"
      ]
     },
     "execution_count": 4,
     "metadata": {},
     "output_type": "execute_result"
    }
   ],
   "source": [
    "(palindromo 3443)"
   ]
  },
  {
   "cell_type": "markdown",
   "id": "6ed1405f",
   "metadata": {},
   "source": [
    "### Ejercicio 8. Suma digítos de un número entero."
   ]
  },
  {
   "cell_type": "markdown",
   "id": "d2ae8e25",
   "metadata": {},
   "source": [
    "Función recursiva que, dado un número entero, encuentra la suma de sus\n",
    "dígitos.\n",
    "\n",
    "Primero, definimos una función residuo que calcula el residuo de la división entre a y b, el cual representa los dígitos del número. Luego, creamos una función division_entera que realiza una división entera para poder eliminar el último dígito del número a evaluar.\n",
    "\n",
    "La función recursiva suma_digitos utiliza las funciones residuo y division_entera mencionadas anteriormente. En cada paso, suma el residuo de la división del número entre 10 para obtener los dígitos y luego llama recursivamente a la función suma_digitos con la división entera entre 10 para eliminar el último dígito que ya se sumó.\n"
   ]
  },
  {
   "cell_type": "markdown",
   "id": "f181d332",
   "metadata": {},
   "source": [
    "#### Código"
   ]
  },
  {
   "cell_type": "code",
   "execution_count": 5,
   "id": "b2abae9f",
   "metadata": {},
   "outputs": [],
   "source": [
    "(define (residuo a b)\n",
    "  (if (< a 0)\n",
    "      (residuo (+ a b) b)\n",
    "      (if (< a b)\n",
    "          a\n",
    "          (residuo (- a b) b))))\n",
    "\n",
    "(define (Entera a b)\n",
    "  (define (rec resto cociente)\n",
    "    (if (< resto b)\n",
    "        cociente\n",
    "        (rec (- resto b) (+ cociente 1))))\n",
    "  \n",
    "  (if (= b 0)\n",
    "      (error \"Divisor no puede ser cero\")\n",
    "      (if (< a 0)\n",
    "          (- (rec (- a) 0))\n",
    "          (rec a 0))))\n",
    "\n",
    "\n",
    "(define (SumaDigitos num)\n",
    "  (if (= num 0)\n",
    "      num\n",
    "  (+ (residuo num 10) (SumaDigitos (Entera num 10)))))"
   ]
  },
  {
   "cell_type": "markdown",
   "id": "e128877b",
   "metadata": {},
   "source": [
    "**Valores de entrada:** El código toma como argumento a un número entero.\n",
    "\n",
    "**Valores de salida:** El valor de salida es la suma de los dígitos del número. \n",
    "\n",
    "**Ejemplo** \n",
    "\n",
    "(SumaDigitos 457)\n",
    "\n",
    "**Valor de entrada:** 457\n",
    "\n",
    "**Salida:** 16"
   ]
  },
  {
   "cell_type": "markdown",
   "id": "b49c46aa",
   "metadata": {},
   "source": [
    "**Prueba**\n",
    "\n",
    "Modifica el valor de entrada y observa su valor de salida. "
   ]
  },
  {
   "cell_type": "code",
   "execution_count": 6,
   "id": "08aaf792",
   "metadata": {},
   "outputs": [
    {
     "data": {
      "text/html": [
       "<code>15</code>"
      ],
      "text/plain": [
       "15"
      ]
     },
     "execution_count": 6,
     "metadata": {},
     "output_type": "execute_result"
    }
   ],
   "source": [
    "(SumaDigitos 12345)"
   ]
  },
  {
   "cell_type": "markdown",
   "id": "8eb5bb0e",
   "metadata": {},
   "source": [
    "### Ejercicio 9: Convertir un número decimal a binario"
   ]
  },
  {
   "cell_type": "markdown",
   "id": "035533ee-c192-4600-863e-37d19ae5f320",
   "metadata": {},
   "source": [
    "La siguiente función convierte un número decimal a su equivalente en binario. Por ejemplo, si su entrada es el número 8, su salida será 1000. \n",
    "\n",
    "Primero la función comprueba si n es igual a 0, si se cumple esta condición se retorna 0, en caso contrario se suma (modulo n 2) que representa el número menos significativo con (* 10 (decimalBinario (quotient n 2))) esta parte de la función convierte recursivamente el cociente en binario y lo multiplica por 10 para correr los dígitos binarios un lugar a la izquierda . \n",
    "\n",
    "Esto se hace de manera recursiva hasta que n sea igual a 0."
   ]
  },
  {
   "cell_type": "markdown",
   "id": "1677b474-ef03-468c-a6e3-6d44cc81d068",
   "metadata": {},
   "source": [
    "**Código**"
   ]
  },
  {
   "cell_type": "code",
   "execution_count": 7,
   "id": "3103850a-4c04-4bb4-84b0-47251484eb4e",
   "metadata": {},
   "outputs": [],
   "source": [
    "(define (decimalBinario n)\n",
    "  (if (= n 0) 0\n",
    "      (+ (modulo n 2) (* 10(decimalBinario (quotient n 2))))\n",
    "      )\n",
    "  )"
   ]
  },
  {
   "cell_type": "markdown",
   "id": "3c57138e-c756-4b87-b5c9-f8e16ec5bc7a",
   "metadata": {},
   "source": [
    "**Valores de entrada:** El código toma como argumento a un número decimal.\n",
    "\n",
    "**Valores de salida:** El valor de salida es el numero equivalente en binario. \n",
    "\n",
    "**Ejemplo** \n",
    "\n",
    "(decimalBinario 16)\n",
    "\n",
    "**Valor de entrada:** 16\n",
    "\n",
    "**Salida:** 10100"
   ]
  },
  {
   "cell_type": "markdown",
   "id": "33552e86-7232-4661-8a9b-477e510b84cf",
   "metadata": {},
   "source": [
    "**Prueba**\n",
    "\n",
    "Modifica el valor de entrada y observa su valor de salida. "
   ]
  },
  {
   "cell_type": "code",
   "execution_count": 9,
   "id": "c43c3cd3-ae12-422c-a748-812bfe8fb8a5",
   "metadata": {
    "scrolled": true
   },
   "outputs": [
    {
     "data": {
      "text/html": [
       "<code>1000</code>"
      ],
      "text/plain": [
       "1000"
      ]
     },
     "execution_count": 9,
     "metadata": {},
     "output_type": "execute_result"
    }
   ],
   "source": [
    "(decimalBinario 8)"
   ]
  },
  {
   "cell_type": "markdown",
   "id": "ac66f2da-e825-496f-a23f-f82627d4fa8c",
   "metadata": {},
   "source": [
    "### Ejercicio 10: Valor de Pi con serie de Leibnitz"
   ]
  },
  {
   "cell_type": "markdown",
   "id": "4d6ef397",
   "metadata": {},
   "source": [
    "Para obtener una aproximación de π mediante la fórmula de Leibniz, se necesita sumar una serie infinita. \n",
    "\n",
    "En este código se define una función que evalua si un número es par o impar, posteriormente se define otra función que retorna -1 si el número es impar y retorna 1 si es par.\n",
    "\n",
    "Estas funciones son usadas en la función principal 'Leibnitz' que tiene las siguientes condiciones:\n",
    "Si el número es menor a 0 retorna 0, si es igual a 0 retorna 1, si el número es par suma el elemento mientras que si el número es impar resta el elemento a la sumatoria. Después de sumar o restar los elementos se llama recursivamente a Leibnitz con el número reducido en 1."
   ]
  },
  {
   "cell_type": "markdown",
   "id": "fa32ea14",
   "metadata": {},
   "source": [
    "**Código**"
   ]
  },
  {
   "cell_type": "code",
   "execution_count": 10,
   "id": "518bffed",
   "metadata": {},
   "outputs": [],
   "source": [
    "(define (even? n)\n",
    "  (= (remainder n 2) 0))\n",
    "\n",
    "\n",
    "(define (pot n)\n",
    "  (if (even? n)\n",
    "      1\n",
    "      -1))\n",
    "\n",
    "(define (Leibnitz n)\n",
    "  (cond\n",
    "    [(< n 0) 0]\n",
    "    [(= n 0) 1]\n",
    "    [(even? n) (+ (/ 1.0 (+ (* 2 n) 1)) (Leibnitz (- n 1)))]\n",
    "    [else (+ (/ -1.0 (+ (* 2 n) 1)) (Leibnitz (- n 1)))])\n",
    "  )"
   ]
  },
  {
   "cell_type": "markdown",
   "id": "ead14758",
   "metadata": {},
   "source": [
    "**Valores de entrada:** El código toma como argumento la cantidad de elementos con los que se realizará la sumatoria.\n",
    "\n",
    "**Valores de salida:** Valor aproximado de Pi. Mientras más grande sea el argumento, el resultado se aproximará más a Pi.\n",
    "\n",
    "**Ejemplo** \n",
    "\n",
    "(Leibnitz 100)\n",
    "\n",
    "**Valor de entrada:** 100\n",
    "\n",
    "**Salida:** 3.1514934010709914"
   ]
  },
  {
   "cell_type": "markdown",
   "id": "2b8d501f",
   "metadata": {},
   "source": [
    "**Prueba**\n",
    "\n",
    "Modifica el valor de entrada y observa su valor de salida. "
   ]
  },
  {
   "cell_type": "code",
   "execution_count": 11,
   "id": "16baee67",
   "metadata": {},
   "outputs": [
    {
     "name": "stdout",
     "output_type": "stream",
     "text": [
      "3.1514934010709914"
     ]
    }
   ],
   "source": [
    "(display (* 4.0 (Leibnitz 100)))"
   ]
  }
 ],
 "metadata": {
  "kernelspec": {
   "display_name": "Racket",
   "language": "racket",
   "name": "racket"
  },
  "language_info": {
   "codemirror_mode": "scheme",
   "file_extension": ".rkt",
   "mimetype": "text/x-racket",
   "name": "Racket",
   "pygments_lexer": "racket",
   "version": "8.12"
  }
 },
 "nbformat": 4,
 "nbformat_minor": 5
}
