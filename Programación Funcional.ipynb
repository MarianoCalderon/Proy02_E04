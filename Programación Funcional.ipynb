{
 "cells": [
  {
   "cell_type": "markdown",
   "id": "8469b125-ad29-4364-9fb7-2494863b4bdb",
   "metadata": {},
   "source": [
    "# Programación Funcional"
   ]
  },
  {
   "cell_type": "markdown",
   "id": "34397288-f19c-4254-99d7-5d4f690b2050",
   "metadata": {},
   "source": [
    "---"
   ]
  },
  {
   "cell_type": "markdown",
   "id": "9c74147d-a966-4290-9394-8d1b889277c4",
   "metadata": {},
   "source": [
    "La **programación funcional** es un estilo de programación que hace hincapié en el uso de funciones y datos inmutables. A continuación se presentará una serie de ejercicios utilizando la programación funcional para su solución. "
   ]
  },
  {
   "cell_type": "markdown",
   "id": "d1973c13-78cf-4c63-9753-d31f2860558d",
   "metadata": {},
   "source": [
    "### Ejercicio 1: Número combinatorio"
   ]
  },
  {
   "cell_type": "markdown",
   "id": "26eb028b-b11b-408f-a06c-abf967e1e88f",
   "metadata": {},
   "source": [
    "A continuación se define una función recursiva para la evaluación de un número combinatorio $C(n, k)$ tomando en cuenta las siguientes condiciones: \n",
    "\n",
    "<li>$C(n,0) = 1$ y $ C(n,n) = 1$</li>\n",
    "<li>$C(n,k) = C(n-1,k-1) + C(n-1,k)$ donde $n \\geq 0, k \\geq 0, n \\geq k$</li>\n"
   ]
  },
  {
   "cell_type": "markdown",
   "id": "cc185e82-7c57-45c5-8fa2-a1f48f6ffffa",
   "metadata": {},
   "source": [
    "**Código** "
   ]
  },
  {
   "cell_type": "code",
   "execution_count": 11,
   "id": "6d0d2642-691c-4e37-b8a2-02e2c58e6560",
   "metadata": {},
   "outputs": [],
   "source": [
    "(define (combinatorio n k)\n",
    "  (if (or (= k 0) (= k n)) 1 \n",
    "      (+ (combinatorio (- n 1) k) (combinatorio (- n 1) (- k 1)))\n",
    "      )\n",
    "  )"
   ]
  },
  {
   "cell_type": "markdown",
   "id": "e0618f12-7475-490a-bd56-141d932038e1",
   "metadata": {},
   "source": [
    "**Valores de entrada:**\n",
    "La función espera dos valores de entrada, el primero siendo $n$ (el número total de elementos para elegir) y el segundo $k$ (número de elementos que se eligen en cada combinación).\n",
    "\n",
    "**Valor de salida:**\n",
    "La salida es el número de combinaciones posibles. \n",
    "\n",
    "\n",
    "**Ejemplo:** \n",
    "\n",
    "(combinatorio 5 2). \n",
    "\n",
    "**Valores de entrada:** 5 y 2\n",
    "\n",
    "\n",
    "**Salida:** 10 "
   ]
  },
  {
   "cell_type": "markdown",
   "id": "2e4acf62-12a5-486b-a898-a18db601e5e6",
   "metadata": {},
   "source": [
    "**Prueba**\n",
    "\n",
    "Cambia los valores de $n$ y $k$ para ver como cambia el valor de salida. "
   ]
  },
  {
   "cell_type": "code",
   "execution_count": 12,
   "id": "b6b2c0c4-01f4-4540-8737-b5b6c5f8d284",
   "metadata": {},
   "outputs": [
    {
     "data": {
      "text/html": [
       "<code>10</code>"
      ],
      "text/plain": [
       "10"
      ]
     },
     "execution_count": 12,
     "metadata": {},
     "output_type": "execute_result"
    }
   ],
   "source": [
    "(combinatorio 5 2)"
   ]
  },
  {
   "cell_type": "markdown",
   "id": "0ea96dce-3be2-493f-91d5-2d5c776ce0f6",
   "metadata": {},
   "source": [
    "### Ejercicio 3: Lista de números primos"
   ]
  },
  {
   "cell_type": "markdown",
   "id": "bf3d2680-ea2c-48ec-b5aa-ef040f489dbe",
   "metadata": {},
   "source": [
    "El siguiente bloque de código devuelve una lista de todos los números primos dentro del rango establecido por el usario. Por ejemplo, si se establce que el rango es del 1 al 10 el programa debe retornar la siguiente lista: '(2, 5, 7).\n",
    "\n",
    "\n",
    "En el código se define una función (primo n), esta función se utiliza para determinar si un número es primo o no. La función primos genera una lista de numeros primos dentro del rango establecido por los argumentos inicio y fin, dentro de esta función se define una función llamada listaPrimos que toma dos argumentos, el primero es Define una actual (el número actual que se está evaluando) y el segundo es lista (una lista acumuladora de números primos encontrados hasta ahora). \n",
    "\n",
    "Utilizado estas funciones de manera recursiva se genera la lista de números primos. o.\r\n",
    "Si un número es primo, lo agrega a la lista acumuladora. Luego, continúa el proceso con el siguiente número en el rango."
   ]
  },
  {
   "cell_type": "markdown",
   "id": "5b057e9b-370d-4506-9888-cfbf550fd77d",
   "metadata": {},
   "source": [
    "**Código**"
   ]
  },
  {
   "cell_type": "code",
   "execution_count": 13,
   "id": "7ba8df15-b403-455e-809b-32eeec7dd911",
   "metadata": {},
   "outputs": [],
   "source": [
    "(define (primo n)\n",
    "  (if (<= n 1) #f \n",
    "      (if (= n 2) #t\n",
    "          (if (= (remainder n 2) 0) #f \n",
    "              (let loop ((i 3))\n",
    "                (if (> (* i i) n) #t  \n",
    "                    (if (= (remainder n i) 0) #f \n",
    "                        (loop (+ i 2)))))))))\n",
    "\n",
    "(define (primos inicio fin)\n",
    "  (define (listaPrimos actual lista)\n",
    "    (if (<= actual fin)\n",
    "        (if (primo actual)\n",
    "            (listaPrimos (+ actual 1) (cons actual lista))\n",
    "            (listaPrimos (+ actual 1) lista))\n",
    "        (reverse lista)))\n",
    "  (listaPrimos inicio '()))"
   ]
  },
  {
   "cell_type": "markdown",
   "id": "10afbf66-67e0-43c5-a0f0-9f720598a9f8",
   "metadata": {},
   "source": [
    "**Valores de entrada:** La función recibe dos valores de entrada, el primero representa el inicio del rango y el segundo el final. \n",
    "\n",
    "**Valor de saldida:** Lista de números primos dentro del rango.\n",
    "\n",
    "**Ejemplo:**\n",
    "\n",
    "(primos 1 10) \n",
    "\n",
    "**Valores de entrada:** 1 y 10 \n",
    "\n",
    "\n",
    "**Salida:** '(2 3 5 7)"
   ]
  },
  {
   "cell_type": "markdown",
   "id": "fce838c2-61c2-4856-878f-5340ed085c7d",
   "metadata": {},
   "source": [
    "**Prueba**\n",
    "\n",
    "Modifica los valores de entrada y analiza como cambia el valor de salida. "
   ]
  },
  {
   "cell_type": "code",
   "execution_count": 14,
   "id": "59aadfbe-29e8-467d-b4d8-42a306ac5c0a",
   "metadata": {},
   "outputs": [
    {
     "data": {
      "text/html": [
       "<code>'(2 3 5 7)</code>"
      ],
      "text/plain": [
       "'(2 3 5 7)"
      ]
     },
     "execution_count": 14,
     "metadata": {},
     "output_type": "execute_result"
    }
   ],
   "source": [
    "(primos 1 10)"
   ]
  },
  {
   "cell_type": "markdown",
   "id": "162a62b1-d8b0-4fd8-b147-39c62b534bc6",
   "metadata": {},
   "source": [
    "### Ejercicio 4: Buscar un elemento"
   ]
  },
  {
   "cell_type": "markdown",
   "id": "955d74a8-298c-4f98-ab1c-5f5cbc7c5a50",
   "metadata": {},
   "source": [
    "La función (buscarElmento n lista) se caracteriza por buscar si un elemento $n$ se encuentra dentro de una lista '() proporcionada. Por ejemplo, si 4 se encuentra dentro de la lista '(1 2 3 4) el programa retorna #t de verdadero, en caso contrario, retorna #f. \n",
    "\n",
    "\n",
    "Primero se define la función (buscarElemento n lista), luego se encuentran una serie de ifs anidadas, primero se comprueba si la lista está vacía, en este caso retorna #f, en caso contrario verifica si el elemento n es el primero de la lista, si esto es cierto, el programa retorna #t, en caso contrariose llama recursivamente a la función buscarElemento con n y el resto de la lista (cdr lista). "
   ]
  },
  {
   "cell_type": "markdown",
   "id": "6760657d-72f6-48d0-90ad-c3e753548c23",
   "metadata": {},
   "source": [
    "**Código**"
   ]
  },
  {
   "cell_type": "code",
   "execution_count": 2,
   "id": "10975730-19e9-4e51-a1da-8c97fd91b82c",
   "metadata": {},
   "outputs": [],
   "source": [
    "(define (buscarElemento n lista)\n",
    "  (if (null? lista) #f \n",
    "      (if (equal? n (car lista)) #t\n",
    "          (buscarElemento n (cdr lista))\n",
    "          )\n",
    "      )\n",
    "  )"
   ]
  },
  {
   "cell_type": "markdown",
   "id": "eae0c6ea-7a65-4aef-86e3-1b25c1bf67a1",
   "metadata": {},
   "source": [
    "**Valores de entrada:** Esta función recibe 2 valores de entrada, el primero siendo el elemento a buscar y el segundo siendo la lista donde se quiere verificar si cuenta con el elemento. \n",
    "\n",
    "**Valores de salida:**\n",
    "<li>#t en caso de que el elemento se encuentre en la lista</li>\n",
    "<li>#f si el elemento no se encuentra en la lista</li>\n",
    "\n",
    "\n",
    "**Ejemplo:**\n",
    "\n",
    "(buscarElemento 3 '(1 3 5))\n",
    "\n",
    "\n",
    "**Valores de entrada:** 3 y '(1 3 5)\n",
    "\n",
    "\n",
    "**Salida:** #t\n",
    "\n",
    "\n"
   ]
  },
  {
   "cell_type": "markdown",
   "id": "f89329a2-0b9e-4b9c-9d96-cb3a0b02e7e4",
   "metadata": {},
   "source": [
    "**Prueba**\n",
    "\n",
    "\n",
    "Cambia los valores de entrada de la función y analiza los cambios en la salida. "
   ]
  },
  {
   "cell_type": "code",
   "execution_count": 3,
   "id": "d4fb8141-c755-42c9-bb29-1f8d733e1269",
   "metadata": {},
   "outputs": [
    {
     "data": {
      "text/html": [
       "<code>#t</code>"
      ],
      "text/plain": [
       "#t"
      ]
     },
     "execution_count": 3,
     "metadata": {},
     "output_type": "execute_result"
    }
   ],
   "source": [
    "(buscarElemento 3 '(1 3 5))"
   ]
  },
  {
   "cell_type": "markdown",
   "id": "4e2297dc-fe98-4fbe-8fad-b6c040ff8dca",
   "metadata": {},
   "source": [
    "### Ejercicio 5: Invertir una lista"
   ]
  },
  {
   "cell_type": "markdown",
   "id": "b6139d46-a128-4571-9a1c-013e7d85dc84",
   "metadata": {},
   "source": [
    "La función (invertir lista) tiene el objetivo de invertir el orden de los elementos de una lista proprocionada, por ejemplo sea una lista '(1 2 3) la salida de la función será '(3 2 1). \n",
    "\n",
    "En el cuerpo de la función primero se verifica si la lista está vacía, en este caso se retorna una lista vacía, si la lista no está vacía, la función llama recursivamente a invertir con el resto de la lista (cdr lista) para invertir el resto de los elementos de la lista. Luego, agrega el primer elemento de la lista original (car lista) al final de la lista invertida utilizando append, esta función combina dos listas dadas."
   ]
  },
  {
   "cell_type": "markdown",
   "id": "ee078cb7-df0b-4e04-af0d-b44433c14f93",
   "metadata": {},
   "source": [
    "**Código**"
   ]
  },
  {
   "cell_type": "code",
   "execution_count": 2,
   "id": "7d03856a-6740-4811-9e01-6bdc41e6f8a2",
   "metadata": {},
   "outputs": [],
   "source": [
    "(define (invertir lista)\n",
    "  (if (null? lista) '()\n",
    "      (append (invertir (cdr lista)) (list (car lista)))\n",
    "      )\n",
    "\n",
    "  )"
   ]
  },
  {
   "cell_type": "markdown",
   "id": "817473c0-0e17-4638-985b-cba61c4cc0fb",
   "metadata": {},
   "source": [
    "**Valores de entrada:** En este caso la función recibe como argumento una lista '(). \n",
    "\n",
    "**Valor de salida:** La salida será la lista invertida. \n",
    "\n",
    "**Ejemplo**\n",
    "\n",
    "(invertir '(2 3 6 8))\n",
    "\n",
    "**Valor de entrada:** '(2 3 6 8)\n",
    "\n",
    "**Salida:** '(8 6 3 2)"
   ]
  },
  {
   "cell_type": "markdown",
   "id": "35da5f0f-0a62-4dbb-ab12-7ae7dd2513ee",
   "metadata": {},
   "source": [
    "**Prueba** \n",
    "\n",
    "Cambia la lista de la función y observa su salida. "
   ]
  },
  {
   "cell_type": "code",
   "execution_count": 5,
   "id": "bb023101-87e0-4193-a438-7ffaea309031",
   "metadata": {},
   "outputs": [
    {
     "data": {
      "text/html": [
       "<code>'(8 6 3 2)</code>"
      ],
      "text/plain": [
       "'(8 6 3 2)"
      ]
     },
     "execution_count": 5,
     "metadata": {},
     "output_type": "execute_result"
    }
   ],
   "source": [
    "(invertir '(2 3 6 8))"
   ]
  },
  {
   "cell_type": "markdown",
   "id": "eb2e70d8-874e-456f-ab1a-acd91e064de6",
   "metadata": {},
   "source": [
    "### Ejercicio 6: Eliminar un elemento de una lista"
   ]
  },
  {
   "cell_type": "markdown",
   "id": "3d76fe22-9589-4e2a-84bf-8b71430a91bb",
   "metadata": {},
   "source": [
    "La función (eliminar n lista) tiene el objetivo de eliminar un elemento $n$ de una lista '(), ambos elementos son propocionados por el usario. \n",
    "\n",
    "Primero se verifica si la lista está vacía, si está vacía retorna una lista vacía, en caso contrario comprueba si el primer elemento de la lista (car lista) es igual a n. Si es así, se llama recursivamente a la función eliminar con n y el resto de la lista (cdr lista), para verificar si existen más ocurrencias del mismo elemento. \n",
    "\n",
    "Si resulta que n no es el primero de la lista (car lista), se agrega ese elemento a la lista resultante utilizando cons, y luego se llama recursivamente a la función eliminar con n y el resto de la lista (cdr lista) para seguir buscando más ocurrencias de n en el resto de la lista y construir la lista resultante con los elementos que no son n."
   ]
  },
  {
   "cell_type": "code",
   "execution_count": 13,
   "id": "96850660-c32b-4059-926d-e8da65dca0ad",
   "metadata": {},
   "outputs": [],
   "source": [
    "(define (eliminar n lista)\n",
    "  (if (null? lista) '()\n",
    "      (if (equal? n (car lista)) (eliminar n (cdr lista))\n",
    "          (cons (car lista) (eliminar n (cdr lista)))\n",
    "          )\n",
    "      )\n",
    "\n",
    "  )"
   ]
  },
  {
   "cell_type": "markdown",
   "id": "f3536d54-cd1e-4cab-9321-27575e3852ce",
   "metadata": {},
   "source": [
    "**Código**"
   ]
  },
  {
   "cell_type": "markdown",
   "id": "9987a69a-7f16-4005-bf44-f1b681983f03",
   "metadata": {},
   "source": [
    "**Valores de entrada:** La función espera dos valores de entrada, el primero es el elemento a eliminar, el segundo es la lista de elementos. \n",
    "\n",
    "**Valores de salida:** La salida será una lista sin el elemento que se deseó eliminar. \n",
    "\n",
    "**Ejemplo**\n",
    "\n",
    "(eliminar 2 '(3 4 6 1 1 2))\n",
    "\n",
    "**Valores de entrada:** 2 y '(3 4 6 1 1 2)\n",
    "\n",
    "\n",
    "**Salida:** '(3 4 6 1 1)\n"
   ]
  },
  {
   "cell_type": "markdown",
   "id": "61459f45-ada5-4563-a69b-7e0d183086f6",
   "metadata": {},
   "source": [
    "**Prueba**\n",
    "\n",
    "Modifica los valores de entrada y observa su salida."
   ]
  },
  {
   "cell_type": "code",
   "execution_count": 15,
   "id": "e61b6c71-e4a2-456c-b325-fbd1512ff06a",
   "metadata": {},
   "outputs": [
    {
     "data": {
      "text/html": [
       "<code>'(3 4 6 1 1)</code>"
      ],
      "text/plain": [
       "'(3 4 6 1 1)"
      ]
     },
     "execution_count": 15,
     "metadata": {},
     "output_type": "execute_result"
    }
   ],
   "source": [
    "(eliminar 2 '(3 4 6 1 1 2))"
   ]
  },
  {
   "cell_type": "markdown",
   "id": "ac66f2da-e825-496f-a23f-f82627d4fa8c",
   "metadata": {},
   "source": [
    "### Ejercicio 9: Convertir un número decimal a binario"
   ]
  },
  {
   "cell_type": "markdown",
   "id": "035533ee-c192-4600-863e-37d19ae5f320",
   "metadata": {},
   "source": [
    "La siguiente función convierte un número decimal a su equivalente en binario. Por ejemplo, si su entrada es el número 8, su salida será 1000. \n",
    "\n",
    "Primero la función comprueba si n es igual a 0, si se cumple esta condición se retorna 0, en caso contrario se suma (modulo n 2) que representa el número menos significativo con (* 10 (decimalBinario (quotient n 2))) esta parte de la función convierte recursivamente el cociente en binario y lo multiplica por 10 para correr los dígitos binarios un lugar a la izquierda . \n",
    "\n",
    "Esto se hace de manera recursiva hasta que n sea igual a 0."
   ]
  },
  {
   "cell_type": "markdown",
   "id": "1677b474-ef03-468c-a6e3-6d44cc81d068",
   "metadata": {},
   "source": [
    "**Código**"
   ]
  },
  {
   "cell_type": "code",
   "execution_count": 9,
   "id": "3103850a-4c04-4bb4-84b0-47251484eb4e",
   "metadata": {},
   "outputs": [],
   "source": [
    "(define (decimalBinario n)\n",
    "  (if (= n 0) 0\n",
    "      (+ (modulo n 2) (* 10(decimalBinario (quotient n 2))))\n",
    "      )\n",
    "  )"
   ]
  },
  {
   "cell_type": "code",
   "execution_count": null,
   "id": "5fd6a02f-2658-425c-b94d-5ee43d4fda62",
   "metadata": {},
   "outputs": [],
   "source": []
  },
  {
   "cell_type": "markdown",
   "id": "3c57138e-c756-4b87-b5c9-f8e16ec5bc7a",
   "metadata": {},
   "source": [
    "**Valores de entrada:** El código toma como argumento a un número decimal.\n",
    "\n",
    "**Valores de salida:** El valor de salida es el numero equivalente en binario. \n",
    "\n",
    "**Ejemplo** \n",
    "\n",
    "(decimalBinario 16)\n",
    "\n",
    "**Valor de entrada:** 16\n",
    "\n",
    "**Salida:** 10100"
   ]
  },
  {
   "cell_type": "markdown",
   "id": "33552e86-7232-4661-8a9b-477e510b84cf",
   "metadata": {},
   "source": [
    "**Prueba**\n",
    "\n",
    "Modifica el valor de entrada y observa su valor de salida. "
   ]
  },
  {
   "cell_type": "code",
   "execution_count": 13,
   "id": "c43c3cd3-ae12-422c-a748-812bfe8fb8a5",
   "metadata": {},
   "outputs": [
    {
     "data": {
      "text/html": [
       "<code>10100</code>"
      ],
      "text/plain": [
       "10100"
      ]
     },
     "execution_count": 13,
     "metadata": {},
     "output_type": "execute_result"
    }
   ],
   "source": [
    "(decimalBinario 20)"
   ]
  }
 ],
 "metadata": {
  "kernelspec": {
   "display_name": "Racket",
   "language": "racket",
   "name": "racket"
  },
  "language_info": {
   "codemirror_mode": "scheme",
   "file_extension": ".rkt",
   "mimetype": "text/x-racket",
   "name": "Racket",
   "pygments_lexer": "racket",
   "version": "8.12"
  }
 },
 "nbformat": 4,
 "nbformat_minor": 5
}
